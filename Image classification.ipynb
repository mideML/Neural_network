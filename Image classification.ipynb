{
 "cells": [
  {
   "cell_type": "code",
   "execution_count": 4,
   "id": "ed6e59e0",
   "metadata": {},
   "outputs": [],
   "source": [
    "import numpy as np\n",
    "import matplotlib.pyplot as plt\n",
    "import tensorflow as tf\n",
    "from tensorflow import keras\n",
    "from tensorflow.keras import datasets, layers, models"
   ]
  },
  {
   "cell_type": "markdown",
   "id": "fe63f471",
   "metadata": {},
   "source": [
    "# LOADING AND SPLITTING DATASET INTO TRAINING AND TEST VALUES"
   ]
  },
  {
   "cell_type": "code",
   "execution_count": 5,
   "id": "d5e87f2a",
   "metadata": {},
   "outputs": [
    {
     "name": "stdout",
     "output_type": "stream",
     "text": [
      "(50000, 32, 32, 3)\n",
      "(50000, 1)\n"
     ]
    }
   ],
   "source": [
    "(x_train, y_train), (x_test, y_test) = datasets.cifar10.load_data()\n",
    "\n",
    "print(x_train.shape)\n",
    "print(y_train.shape)"
   ]
  },
  {
   "cell_type": "code",
   "execution_count": 6,
   "id": "6a426c77",
   "metadata": {},
   "outputs": [
    {
     "data": {
      "text/plain": [
       "array([6, 9, 9, ..., 9, 1, 1], dtype=uint8)"
      ]
     },
     "execution_count": 6,
     "metadata": {},
     "output_type": "execute_result"
    }
   ],
   "source": [
    "#training values are initially in 2D hence the reshape\n",
    "y_train = y_train.reshape(-1,)\n",
    "y_train"
   ]
  },
  {
   "cell_type": "code",
   "execution_count": 7,
   "id": "fd2d8ff2",
   "metadata": {},
   "outputs": [
    {
     "data": {
      "text/plain": [
       "<matplotlib.image.AxesImage at 0x2a2663310>"
      ]
     },
     "execution_count": 7,
     "metadata": {},
     "output_type": "execute_result"
    },
    {
     "data": {
      "image/png": "[encoded data removed]",
      "text/plain": [
       "<Figure size 640x480 with 1 Axes>"
      ]
     },
     "metadata": {},
     "output_type": "display_data"
    }
   ],
   "source": [
    "plt.imshow(x_train[1])"
   ]
  },
  {
   "cell_type": "code",
   "execution_count": 8,
   "id": "0455df79",
   "metadata": {},
   "outputs": [],
   "source": [
    "classes = ['airplane','automobile','bird','cat','deer','dog','frog','horse','ship','truck']\n",
    "\n",
    "def plot_sample(x,y,index):\n",
    "    plt.figure(figsize=(15,2))\n",
    "    plt.imshow(x[index]) \n",
    "    plt.xlabel(classes[y[index]])"
   ]
  },
  {
   "cell_type": "code",
   "execution_count": 9,
   "id": "2ea3edf4",
   "metadata": {},
   "outputs": [
    {
     "data": {
      "image/png": "[encoded data removed]",
      "text/plain": [
       "<Figure size 1500x200 with 1 Axes>"
      ]
     },
     "metadata": {},
     "output_type": "display_data"
    }
   ],
   "source": [
    "plot_sample(x_train,y_train,1)\n",
    "plt.show()"
   ]
  },
  {
   "cell_type": "code",
   "execution_count": 10,
   "id": "4693bccd",
   "metadata": {},
   "outputs": [],
   "source": [
    "#To normalize the data\n",
    "x_train = x_train/255\n",
    "x_test = x_test/255"
   ]
  },
  {
   "cell_type": "markdown",
   "id": "7335d48b",
   "metadata": {},
   "source": [
    "#  BUILDING AND TRAINING OUR CONVOLUTION NEURAL NETWORK"
   ]
  },
  {
   "cell_type": "code",
   "execution_count": 55,
   "id": "eb50aa34",
   "metadata": {
    "scrolled": true
   },
   "outputs": [
    {
     "name": "stdout",
     "output_type": "stream",
     "text": [
      "Epoch 1/10\n",
      "2500/2500 [==============================] - 14s 5ms/step - loss: 1.5111 - accuracy: 0.4540\n",
      "Epoch 2/10\n",
      "2500/2500 [==============================] - 13s 5ms/step - loss: 1.1896 - accuracy: 0.5772\n",
      "Epoch 3/10\n",
      "2500/2500 [==============================] - 13s 5ms/step - loss: 1.0632 - accuracy: 0.6246\n",
      "Epoch 4/10\n",
      "2500/2500 [==============================] - 13s 5ms/step - loss: 0.9886 - accuracy: 0.6541\n",
      "Epoch 5/10\n",
      "2500/2500 [==============================] - 13s 5ms/step - loss: 0.9212 - accuracy: 0.6792\n",
      "Epoch 6/10\n",
      "2500/2500 [==============================] - 13s 5ms/step - loss: 0.8718 - accuracy: 0.6923\n",
      "Epoch 7/10\n",
      "2500/2500 [==============================] - 13s 5ms/step - loss: 0.8196 - accuracy: 0.7116\n",
      "Epoch 8/10\n",
      "2500/2500 [==============================] - 13s 5ms/step - loss: 0.7877 - accuracy: 0.7197\n",
      "Epoch 9/10\n",
      "2500/2500 [==============================] - 13s 5ms/step - loss: 0.7489 - accuracy: 0.7329\n",
      "Epoch 10/10\n",
      "2500/2500 [==============================] - 13s 5ms/step - loss: 0.7180 - accuracy: 0.7430\n"
     ]
    },
    {
     "data": {
      "text/plain": [
       "<keras.callbacks.History at 0x2aeaa56f0>"
      ]
     },
     "execution_count": 55,
     "metadata": {},
     "output_type": "execute_result"
    }
   ],
   "source": [
    "#CNN is used instead of ANN because CNN favors computer vision related problems.\n",
    "\n",
    "cnn = models.Sequential([\n",
    "    layers.Conv2D(filters=32, kernel_size=(3,3), activation='relu',input_shape=(32,32,3)),\n",
    "    layers.MaxPooling2D((2,2)),\n",
    "    \n",
    "    layers.Conv2D(filters=64, kernel_size=(3,3), activation='relu'),\n",
    "    layers.MaxPooling2D((2,2)),\n",
    "    \n",
    "    #dense\n",
    "    layers.Flatten(input_shape=(32,32,3)),\n",
    "    layers.Dense(64, activation='relu'),\n",
    "    layers.Dropout(0.2),\n",
    "    layers.Dense(10, activation='softmax'), #softmax will normalize probabilities\n",
    "])\n",
    "\n",
    "cnn.compile(optimizer='adam',\n",
    "           loss='sparse_categorical_crossentropy',\n",
    "           metrics=['accuracy'])\n",
    "\n",
    "cnn.fit(x_train, y_train, batch_size=20, epochs=10)"
   ]
  },
  {
   "cell_type": "code",
   "execution_count": 56,
   "id": "a8008ff3",
   "metadata": {},
   "outputs": [
    {
     "name": "stdout",
     "output_type": "stream",
     "text": [
      "313/313 [==============================] - 1s 3ms/step - loss: 0.9529 - accuracy: 0.6833\n"
     ]
    },
    {
     "data": {
      "text/plain": [
       "[0.9528831839561462, 0.6833000183105469]"
      ]
     },
     "execution_count": 56,
     "metadata": {},
     "output_type": "execute_result"
    }
   ],
   "source": [
    "cnn.evaluate(x_test, y_test)"
   ]
  },
  {
   "cell_type": "code",
   "execution_count": 12,
   "id": "d83908e0",
   "metadata": {},
   "outputs": [],
   "source": [
    "#To visualize the architecture of the CNN\n",
    "import visualkeras"
   ]
  },
  {
   "cell_type": "code",
   "execution_count": 15,
   "id": "e87da8e1",
   "metadata": {},
   "outputs": [
    {
     "name": "stdout",
     "output_type": "stream",
     "text": [
      "Model: \"sequential\"\n",
      "_________________________________________________________________\n",
      " Layer (type)                Output Shape              Param #   \n",
      "=================================================================\n",
      " conv2d (Conv2D)             (None, 30, 30, 32)        896       \n",
      "                                                                 \n",
      " max_pooling2d (MaxPooling2D  (None, 15, 15, 32)       0         \n",
      " )                                                               \n",
      "                                                                 \n",
      " conv2d_1 (Conv2D)           (None, 13, 13, 64)        18496     \n",
      "                                                                 \n",
      " max_pooling2d_1 (MaxPooling  (None, 6, 6, 64)         0         \n",
      " 2D)                                                             \n",
      "                                                                 \n",
      " flatten (Flatten)           (None, 2304)              0         \n",
      "                                                                 \n",
      " dense (Dense)               (None, 64)                147520    \n",
      "                                                                 \n",
      " dropout (Dropout)           (None, 64)                0         \n",
      "                                                                 \n",
      " dense_1 (Dense)             (None, 10)                650       \n",
      "                                                                 \n",
      "=================================================================\n",
      "Total params: 167,562\n",
      "Trainable params: 167,562\n",
      "Non-trainable params: 0\n",
      "_________________________________________________________________\n"
     ]
    }
   ],
   "source": [
    "cnn.summary()"
   ]
  },
  {
   "cell_type": "code",
   "execution_count": 17,
   "id": "281cd385",
   "metadata": {},
   "outputs": [
    {
     "data": {
      "image/png": "[encoded data removed]",
      "text/plain": [
       "<PIL.Image.Image image mode=RGBA size=484x196>"
      ]
     },
     "execution_count": 17,
     "metadata": {},
     "output_type": "execute_result"
    }
   ],
   "source": [
    "visualkeras.layered_view(cnn, legend=True)"
   ]
  },
  {
   "cell_type": "code",
   "execution_count": 70,
   "id": "40382b7a",
   "metadata": {},
   "outputs": [
    {
     "name": "stdout",
     "output_type": "stream",
     "text": [
      "313/313 [==============================] - 1s 3ms/step\n"
     ]
    }
   ],
   "source": [
    "y_pred = cnn.predict(x_test)"
   ]
  },
  {
   "cell_type": "code",
   "execution_count": 90,
   "id": "65af2a07",
   "metadata": {
    "scrolled": true
   },
   "outputs": [],
   "source": [
    "y_classes = [np.argmax(element) for element in y_pred]"
   ]
  },
  {
   "cell_type": "code",
   "execution_count": 72,
   "id": "c671a2c8",
   "metadata": {},
   "outputs": [
    {
     "name": "stdout",
     "output_type": "stream",
     "text": [
      "              precision    recall  f1-score   support\n",
      "\n",
      "           0       0.76      0.70      0.73      1086\n",
      "           1       0.84      0.78      0.81      1075\n",
      "           2       0.61      0.51      0.56      1194\n",
      "           3       0.44      0.54      0.49       815\n",
      "           4       0.53      0.70      0.61       755\n",
      "           5       0.69      0.54      0.60      1276\n",
      "           6       0.77      0.74      0.75      1034\n",
      "           7       0.75      0.71      0.73      1058\n",
      "           8       0.79      0.83      0.81       950\n",
      "           9       0.66      0.87      0.75       757\n",
      "\n",
      "    accuracy                           0.68     10000\n",
      "   macro avg       0.68      0.69      0.68     10000\n",
      "weighted avg       0.69      0.68      0.68     10000\n",
      "\n"
     ]
    }
   ],
   "source": [
    "print(classification_report(y_classes, y_test))"
   ]
  },
  {
   "cell_type": "code",
   "execution_count": 80,
   "id": "8d32f96a",
   "metadata": {},
   "outputs": [
    {
     "name": "stdout",
     "output_type": "stream",
     "text": [
      "[3, 1, 1, 0, 6, 6, 1, 2, 3, 1]\n",
      "[3 8 8 0 6 6 1 6 3 1]\n"
     ]
    }
   ],
   "source": [
    "#Comparing first 11 y_test values with y_classes\n",
    "print(y_classes[:10])\n",
    "y_test = y_test.reshape(-1,)\n",
    "print(y_test[:10])"
   ]
  },
  {
   "cell_type": "markdown",
   "id": "f2eed117",
   "metadata": {},
   "source": [
    "# Actual plot vs predicted classes"
   ]
  },
  {
   "cell_type": "code",
   "execution_count": 82,
   "id": "79609435",
   "metadata": {},
   "outputs": [
    {
     "name": "stdout",
     "output_type": "stream",
     "text": [
      "automobile\n"
     ]
    },
    {
     "data": {
      "image/png": "[encoded data removed]",
      "text/plain": [
       "<Figure size 1500x200 with 1 Axes>"
      ]
     },
     "metadata": {},
     "output_type": "display_data"
    }
   ],
   "source": [
    "plot_sample(x_test,y_test,6) \n",
    "print(classes[y_classes[6]])"
   ]
  },
  {
   "cell_type": "code",
   "execution_count": 93,
   "id": "aee548fe",
   "metadata": {},
   "outputs": [
    {
     "name": "stdout",
     "output_type": "stream",
     "text": [
      "cat\n"
     ]
    },
    {
     "data": {
      "image/png": "[encoded data removed]",
      "text/plain": [
       "<Figure size 1500x200 with 1 Axes>"
      ]
     },
     "metadata": {},
     "output_type": "display_data"
    }
   ],
   "source": [
    "print(classes[y_classes[8]])\n",
    "plot_sample(x_test, y_test, 8)"
   ]
  },
  {
   "cell_type": "code",
   "execution_count": null,
   "id": "a8d1a4fe",
   "metadata": {},
   "outputs": [],
   "source": []
  }
 ],
 "metadata": {
  "kernelspec": {
   "display_name": "Python 3 (ipykernel)",
   "language": "python",
   "name": "python3"
  },
  "language_info": {
   "codemirror_mode": {
    "name": "ipython",
    "version": 3
   },
   "file_extension": ".py",
   "mimetype": "text/x-python",
   "name": "python",
   "nbconvert_exporter": "python",
   "pygments_lexer": "ipython3",
   "version": "3.10.11"
  }
 },
 "nbformat": 4,
 "nbformat_minor": 5
}
